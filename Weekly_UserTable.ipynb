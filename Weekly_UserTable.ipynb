{
 "cells": [
  {
   "cell_type": "code",
   "execution_count": 1,
   "metadata": {},
   "outputs": [],
   "source": [
    "import pandas as pd\n",
    "import numpy as np\n",
    "import matplotlib.pyplot as plt\n",
    "from datetime import datetime, timedelta \n",
    "\n",
    "from src.data_prep import *\n",
    "\n",
    "plt.style.use('ggplot')\n",
    "%matplotlib inline"
   ]
  },
  {
   "cell_type": "markdown",
   "metadata": {},
   "source": [
    "## Data Preparation "
   ]
  },
  {
   "cell_type": "code",
   "execution_count": 2,
   "metadata": {},
   "outputs": [],
   "source": [
    "#Reading in the data\n",
    "data = pd.read_pickle('../junyi_df.pickle')\n",
    "\n",
    "#Dropping Un-needed Columns\n",
    "data = drop_columns(data)\n",
    "\n",
    "#Changing Bools to Int\n",
    "data = change_bool(data)\n",
    "\n",
    "#Convert Unix datetime to DateTime\n",
    "data = convert_dates(data, 'time_done')\n",
    "\n",
    "#Choosing Date Range\n",
    "#data = select_date(data, 'time_done', '1/1/2014', '9/30/2014')\n"
   ]
  },
  {
   "cell_type": "code",
   "execution_count": 4,
   "metadata": {},
   "outputs": [
    {
     "data": {
      "text/plain": [
       "Timestamp('2015-01-11 18:14:25.650430')"
      ]
     },
     "execution_count": 4,
     "metadata": {},
     "output_type": "execute_result"
    }
   ],
   "source": [
    "data['time_done'].max()"
   ]
  },
  {
   "cell_type": "code",
   "execution_count": 5,
   "metadata": {},
   "outputs": [
    {
     "data": {
      "text/plain": [
       "Timestamp('2012-10-12 01:03:55.131230')"
      ]
     },
     "execution_count": 5,
     "metadata": {},
     "output_type": "execute_result"
    }
   ],
   "source": [
    "data['time_done'].min()"
   ]
  },
  {
   "cell_type": "code",
   "execution_count": 9,
   "metadata": {},
   "outputs": [],
   "source": [
    "data['week'] = data['time_done'].dt.week"
   ]
  },
  {
   "cell_type": "code",
   "execution_count": 10,
   "metadata": {},
   "outputs": [],
   "source": [
    "data['year'] = data['time_done'].dt.year"
   ]
  },
  {
   "cell_type": "code",
   "execution_count": 13,
   "metadata": {},
   "outputs": [
    {
     "data": {
      "text/plain": [
       "Timestamp('2015-01-08 11:00:10.324490')"
      ]
     },
     "execution_count": 13,
     "metadata": {},
     "output_type": "execute_result"
    }
   ],
   "source": [
    "data['time_done'][0]"
   ]
  },
  {
   "cell_type": "code",
   "execution_count": 20,
   "metadata": {},
   "outputs": [],
   "source": [
    "data['year_week'] = data['time_done'].apply(lambda x: x.isocalendar()[0:2])"
   ]
  },
  {
   "cell_type": "code",
   "execution_count": 22,
   "metadata": {},
   "outputs": [
    {
     "data": {
      "text/html": [
       "<div>\n",
       "<style scoped>\n",
       "    .dataframe tbody tr th:only-of-type {\n",
       "        vertical-align: middle;\n",
       "    }\n",
       "\n",
       "    .dataframe tbody tr th {\n",
       "        vertical-align: top;\n",
       "    }\n",
       "\n",
       "    .dataframe thead th {\n",
       "        text-align: right;\n",
       "    }\n",
       "</style>\n",
       "<table border=\"1\" class=\"dataframe\">\n",
       "  <thead>\n",
       "    <tr style=\"text-align: right;\">\n",
       "      <th></th>\n",
       "      <th></th>\n",
       "      <th>topic_mode</th>\n",
       "      <th>suggested</th>\n",
       "      <th>review_mode</th>\n",
       "      <th>time_taken</th>\n",
       "      <th>correct</th>\n",
       "      <th>count_attempts</th>\n",
       "      <th>hint_used</th>\n",
       "      <th>count_hints</th>\n",
       "      <th>earned_proficiency</th>\n",
       "      <th>points_earned</th>\n",
       "      <th>week</th>\n",
       "      <th>year</th>\n",
       "    </tr>\n",
       "    <tr>\n",
       "      <th>user_id</th>\n",
       "      <th>year_week</th>\n",
       "      <th></th>\n",
       "      <th></th>\n",
       "      <th></th>\n",
       "      <th></th>\n",
       "      <th></th>\n",
       "      <th></th>\n",
       "      <th></th>\n",
       "      <th></th>\n",
       "      <th></th>\n",
       "      <th></th>\n",
       "      <th></th>\n",
       "      <th></th>\n",
       "    </tr>\n",
       "  </thead>\n",
       "  <tbody>\n",
       "    <tr>\n",
       "      <th>0</th>\n",
       "      <th>(2014, 45)</th>\n",
       "      <td>0</td>\n",
       "      <td>7</td>\n",
       "      <td>0</td>\n",
       "      <td>145</td>\n",
       "      <td>7</td>\n",
       "      <td>10</td>\n",
       "      <td>1</td>\n",
       "      <td>1</td>\n",
       "      <td>0</td>\n",
       "      <td>1575</td>\n",
       "      <td>360</td>\n",
       "      <td>16112</td>\n",
       "    </tr>\n",
       "    <tr>\n",
       "      <th>1</th>\n",
       "      <th>(2014, 14)</th>\n",
       "      <td>9</td>\n",
       "      <td>15</td>\n",
       "      <td>0</td>\n",
       "      <td>398</td>\n",
       "      <td>20</td>\n",
       "      <td>42</td>\n",
       "      <td>2</td>\n",
       "      <td>14</td>\n",
       "      <td>2</td>\n",
       "      <td>3819</td>\n",
       "      <td>378</td>\n",
       "      <td>54378</td>\n",
       "    </tr>\n",
       "    <tr>\n",
       "      <th>2</th>\n",
       "      <th>(2014, 28)</th>\n",
       "      <td>23</td>\n",
       "      <td>22</td>\n",
       "      <td>0</td>\n",
       "      <td>1057</td>\n",
       "      <td>36</td>\n",
       "      <td>69</td>\n",
       "      <td>3</td>\n",
       "      <td>4</td>\n",
       "      <td>3</td>\n",
       "      <td>6201</td>\n",
       "      <td>1092</td>\n",
       "      <td>78546</td>\n",
       "    </tr>\n",
       "    <tr>\n",
       "      <th>3</th>\n",
       "      <th>(2014, 35)</th>\n",
       "      <td>1</td>\n",
       "      <td>14</td>\n",
       "      <td>0</td>\n",
       "      <td>5233</td>\n",
       "      <td>167</td>\n",
       "      <td>199</td>\n",
       "      <td>3</td>\n",
       "      <td>12</td>\n",
       "      <td>5</td>\n",
       "      <td>5466</td>\n",
       "      <td>6370</td>\n",
       "      <td>366548</td>\n",
       "    </tr>\n",
       "    <tr>\n",
       "      <th>4</th>\n",
       "      <th>(2014, 8)</th>\n",
       "      <td>0</td>\n",
       "      <td>5</td>\n",
       "      <td>0</td>\n",
       "      <td>62</td>\n",
       "      <td>8</td>\n",
       "      <td>8</td>\n",
       "      <td>0</td>\n",
       "      <td>0</td>\n",
       "      <td>1</td>\n",
       "      <td>1164</td>\n",
       "      <td>64</td>\n",
       "      <td>16112</td>\n",
       "    </tr>\n",
       "    <tr>\n",
       "      <th>...</th>\n",
       "      <th>...</th>\n",
       "      <td>...</td>\n",
       "      <td>...</td>\n",
       "      <td>...</td>\n",
       "      <td>...</td>\n",
       "      <td>...</td>\n",
       "      <td>...</td>\n",
       "      <td>...</td>\n",
       "      <td>...</td>\n",
       "      <td>...</td>\n",
       "      <td>...</td>\n",
       "      <td>...</td>\n",
       "      <td>...</td>\n",
       "    </tr>\n",
       "    <tr>\n",
       "      <th>247602</th>\n",
       "      <th>(2014, 25)</th>\n",
       "      <td>1</td>\n",
       "      <td>0</td>\n",
       "      <td>0</td>\n",
       "      <td>2801</td>\n",
       "      <td>40</td>\n",
       "      <td>69</td>\n",
       "      <td>0</td>\n",
       "      <td>0</td>\n",
       "      <td>0</td>\n",
       "      <td>2576</td>\n",
       "      <td>1300</td>\n",
       "      <td>104728</td>\n",
       "    </tr>\n",
       "    <tr>\n",
       "      <th>247603</th>\n",
       "      <th>(2014, 29)</th>\n",
       "      <td>0</td>\n",
       "      <td>0</td>\n",
       "      <td>0</td>\n",
       "      <td>26</td>\n",
       "      <td>1</td>\n",
       "      <td>1</td>\n",
       "      <td>0</td>\n",
       "      <td>0</td>\n",
       "      <td>0</td>\n",
       "      <td>75</td>\n",
       "      <td>29</td>\n",
       "      <td>2014</td>\n",
       "    </tr>\n",
       "    <tr>\n",
       "      <th rowspan=\"2\" valign=\"top\">247604</th>\n",
       "      <th>(2014, 47)</th>\n",
       "      <td>2</td>\n",
       "      <td>0</td>\n",
       "      <td>0</td>\n",
       "      <td>224</td>\n",
       "      <td>25</td>\n",
       "      <td>31</td>\n",
       "      <td>0</td>\n",
       "      <td>0</td>\n",
       "      <td>2</td>\n",
       "      <td>1114</td>\n",
       "      <td>1222</td>\n",
       "      <td>52364</td>\n",
       "    </tr>\n",
       "    <tr>\n",
       "      <th>(2014, 48)</th>\n",
       "      <td>14</td>\n",
       "      <td>22</td>\n",
       "      <td>0</td>\n",
       "      <td>539</td>\n",
       "      <td>34</td>\n",
       "      <td>45</td>\n",
       "      <td>3</td>\n",
       "      <td>4</td>\n",
       "      <td>3</td>\n",
       "      <td>5727</td>\n",
       "      <td>1872</td>\n",
       "      <td>78546</td>\n",
       "    </tr>\n",
       "    <tr>\n",
       "      <th>247605</th>\n",
       "      <th>(2014, 46)</th>\n",
       "      <td>0</td>\n",
       "      <td>0</td>\n",
       "      <td>0</td>\n",
       "      <td>138</td>\n",
       "      <td>0</td>\n",
       "      <td>2</td>\n",
       "      <td>1</td>\n",
       "      <td>3</td>\n",
       "      <td>0</td>\n",
       "      <td>0</td>\n",
       "      <td>46</td>\n",
       "      <td>2014</td>\n",
       "    </tr>\n",
       "  </tbody>\n",
       "</table>\n",
       "<p>465971 rows × 12 columns</p>\n",
       "</div>"
      ],
      "text/plain": [
       "                    topic_mode  suggested  review_mode  time_taken  correct  \\\n",
       "user_id year_week                                                             \n",
       "0       (2014, 45)           0          7            0         145        7   \n",
       "1       (2014, 14)           9         15            0         398       20   \n",
       "2       (2014, 28)          23         22            0        1057       36   \n",
       "3       (2014, 35)           1         14            0        5233      167   \n",
       "4       (2014, 8)            0          5            0          62        8   \n",
       "...                        ...        ...          ...         ...      ...   \n",
       "247602  (2014, 25)           1          0            0        2801       40   \n",
       "247603  (2014, 29)           0          0            0          26        1   \n",
       "247604  (2014, 47)           2          0            0         224       25   \n",
       "        (2014, 48)          14         22            0         539       34   \n",
       "247605  (2014, 46)           0          0            0         138        0   \n",
       "\n",
       "                    count_attempts  hint_used  count_hints  \\\n",
       "user_id year_week                                            \n",
       "0       (2014, 45)              10          1            1   \n",
       "1       (2014, 14)              42          2           14   \n",
       "2       (2014, 28)              69          3            4   \n",
       "3       (2014, 35)             199          3           12   \n",
       "4       (2014, 8)                8          0            0   \n",
       "...                            ...        ...          ...   \n",
       "247602  (2014, 25)              69          0            0   \n",
       "247603  (2014, 29)               1          0            0   \n",
       "247604  (2014, 47)              31          0            0   \n",
       "        (2014, 48)              45          3            4   \n",
       "247605  (2014, 46)               2          1            3   \n",
       "\n",
       "                    earned_proficiency  points_earned  week    year  \n",
       "user_id year_week                                                    \n",
       "0       (2014, 45)                   0           1575   360   16112  \n",
       "1       (2014, 14)                   2           3819   378   54378  \n",
       "2       (2014, 28)                   3           6201  1092   78546  \n",
       "3       (2014, 35)                   5           5466  6370  366548  \n",
       "4       (2014, 8)                    1           1164    64   16112  \n",
       "...                                ...            ...   ...     ...  \n",
       "247602  (2014, 25)                   0           2576  1300  104728  \n",
       "247603  (2014, 29)                   0             75    29    2014  \n",
       "247604  (2014, 47)                   2           1114  1222   52364  \n",
       "        (2014, 48)                   3           5727  1872   78546  \n",
       "247605  (2014, 46)                   0              0    46    2014  \n",
       "\n",
       "[465971 rows x 12 columns]"
      ]
     },
     "execution_count": 22,
     "metadata": {},
     "output_type": "execute_result"
    }
   ],
   "source": [
    "data.groupby(['user_id','year_week']).sum()"
   ]
  },
  {
   "cell_type": "markdown",
   "metadata": {},
   "source": [
    "## Creating the Users Table "
   ]
  },
  {
   "cell_type": "code",
   "execution_count": 194,
   "metadata": {},
   "outputs": [],
   "source": [
    "#Creating User Table with sums of data points\n",
    "users = data.groupby('user_id').sum()\n",
    "\n",
    "user_table = pd.DataFrame(users)\n",
    "\n",
    "#Creating a time variable rng\n",
    "user_time = data.groupby('user_id')\n",
    "rng = (user_time['time_done'].max() - user_time['time_done'].min()).dt.days\n",
    "\n",
    "#Cutting Table to include only users with 10 or more days active\n",
    "user_table = user_table[(rng>9)]\n",
    "\n",
    "#Creating Squared Hints, Correct, Review_Mode(Unused in final )\n",
    "    # user_table['count_hints_sq'] = user_table['count_hints'] **2 \n",
    "    # user_table['count_attempts_sq'] = user_table['count_attempts'] **2 \n",
    "    # user_table['review_mode_sq'] = user_table['review_mode'] **2\n",
    "    # user_table['correct_sq'] = user_table['correct'] **2\n",
    "\n",
    "#Creating a More than 10 activities columns\n",
    "total_usage = data['user_id'].value_counts().sort_index()\n",
    "user_table['total_usage'] = total_usage\n",
    "\n",
    "\n",
    "#Unused in final table\n",
    "    #user_table['more_than_100_activities'] = (total_usage > 100).astype(int)\n",
    "    #user_table['more_than_1000_activities'] = (total_usage > 1000).astype(int)\n",
    "    #user_table['more_than_ten_activities'] = (total_usage > 10).astype(int)\n",
    "\n",
    "#Creating a More than X day columns\n",
    "user_time = data.groupby('user_id')\n",
    "rng = (user_time['time_done'].max() - user_time['time_done'].min()).dt.days\n",
    "\n",
    "#The columns below did not end up in the final table\n",
    "    #user_table['active_more_than_1_day'] = (rng > 0).astype(int)\n",
    "    #user_table['active_at_least_5_days'] = (rng >= 4).astype(int)\n",
    "    #user_table['active_at_least_10_days'] = (rng >= 9).astype(int)\n",
    "\n",
    "active_from_last= (data['time_done'].max() - (user_time['time_done'].max())).dt.days\n",
    "user_table['active_from_last'] = active_from_last\n",
    "\n",
    "#active_from_last_sq = active_from_last ** 2\n",
    "#user_table['active_from_last_sq'] = active_from_last_sq\n",
    "\n",
    "\n",
    "\n",
    "#Creating a 7 day streak columns\n",
    "one_before = ((data['time_done'].max())- timedelta(1))\n",
    "two_before = ((data['time_done'].max())- timedelta(2))\n",
    "three_before = ((data['time_done'].max())- timedelta(3))\n",
    "four_before = ((data['time_done'].max())- timedelta(4)) \n",
    "five_before = ((data['time_done'].max())- timedelta(5))\n",
    "six_before =((data['time_done'].max())- timedelta(6))\n",
    "seven_before =((data['time_done'].max())- timedelta(7))\n",
    "\n",
    "user_table['one_before'] = ((one_before - (user_time['time_done'].max())).dt.days == 0).astype(int)\n",
    "user_table['two_before'] = ((two_before - (user_time['time_done'].max())).dt.days == 0).astype(int)\n",
    "user_table['three_before'] = ((three_before - (user_time['time_done'].max())).dt.days == 0).astype(int)\n",
    "user_table['four_before'] = ((four_before - (user_time['time_done'].max())).dt.days == 0).astype(int)\n",
    "user_table['five_before'] = ((five_before - (user_time['time_done'].max())).dt.days == 0).astype(int)\n",
    "user_table['six_before'] = ((six_before - (user_time['time_done'].max())).dt.days == 0).astype(int)\n",
    "user_table['seven_before'] = ((seven_before - (user_time['time_done'].max())).dt.days == 0).astype(int\n",
    "\n"
   ]
  },
  {
   "cell_type": "markdown",
   "metadata": {},
   "source": [
    "### Creating the Target and Saving User Table "
   ]
  },
  {
   "cell_type": "code",
   "execution_count": 481,
   "metadata": {},
   "outputs": [],
   "source": [
    "target = create_target('../junyi_df.pickle', '10/1/2014', '10/31/2014', user_table)"
   ]
  },
  {
   "cell_type": "code",
   "execution_count": null,
   "metadata": {},
   "outputs": [],
   "source": [
    "#Dropping if colums if needed before adding target and saving\n",
    "    #user_table.drop(columns=['target'], inplace=True)\n",
    "    #user_table.drop(columns=['active_at_least_10_days', 'active_at_least_5_days', 'active_more_than_1_day'], inplace=True)"
   ]
  },
  {
   "cell_type": "code",
   "execution_count": 486,
   "metadata": {},
   "outputs": [
    {
     "data": {
      "text/html": [
       "<div>\n",
       "<style scoped>\n",
       "    .dataframe tbody tr th:only-of-type {\n",
       "        vertical-align: middle;\n",
       "    }\n",
       "\n",
       "    .dataframe tbody tr th {\n",
       "        vertical-align: top;\n",
       "    }\n",
       "\n",
       "    .dataframe thead th {\n",
       "        text-align: right;\n",
       "    }\n",
       "</style>\n",
       "<table border=\"1\" class=\"dataframe\">\n",
       "  <thead>\n",
       "    <tr style=\"text-align: right;\">\n",
       "      <th></th>\n",
       "      <th>topic_mode</th>\n",
       "      <th>suggested</th>\n",
       "      <th>review_mode</th>\n",
       "      <th>time_taken</th>\n",
       "      <th>correct</th>\n",
       "      <th>count_attempts</th>\n",
       "      <th>hint_used</th>\n",
       "      <th>count_hints</th>\n",
       "      <th>earned_proficiency</th>\n",
       "      <th>points_earned</th>\n",
       "      <th>total_usage</th>\n",
       "      <th>active_from_last</th>\n",
       "      <th>one_before</th>\n",
       "      <th>two_before</th>\n",
       "      <th>three_before</th>\n",
       "      <th>four_before</th>\n",
       "      <th>five_before</th>\n",
       "      <th>six_before</th>\n",
       "      <th>seven_before</th>\n",
       "      <th>target</th>\n",
       "    </tr>\n",
       "    <tr>\n",
       "      <th>user_id</th>\n",
       "      <th></th>\n",
       "      <th></th>\n",
       "      <th></th>\n",
       "      <th></th>\n",
       "      <th></th>\n",
       "      <th></th>\n",
       "      <th></th>\n",
       "      <th></th>\n",
       "      <th></th>\n",
       "      <th></th>\n",
       "      <th></th>\n",
       "      <th></th>\n",
       "      <th></th>\n",
       "      <th></th>\n",
       "      <th></th>\n",
       "      <th></th>\n",
       "      <th></th>\n",
       "      <th></th>\n",
       "      <th></th>\n",
       "      <th></th>\n",
       "    </tr>\n",
       "  </thead>\n",
       "  <tbody>\n",
       "    <tr>\n",
       "      <th>8</th>\n",
       "      <td>147</td>\n",
       "      <td>81</td>\n",
       "      <td>0</td>\n",
       "      <td>1600</td>\n",
       "      <td>192</td>\n",
       "      <td>277</td>\n",
       "      <td>8</td>\n",
       "      <td>53</td>\n",
       "      <td>16</td>\n",
       "      <td>28843</td>\n",
       "      <td>230</td>\n",
       "      <td>80</td>\n",
       "      <td>0</td>\n",
       "      <td>0</td>\n",
       "      <td>0</td>\n",
       "      <td>0</td>\n",
       "      <td>0</td>\n",
       "      <td>0</td>\n",
       "      <td>0</td>\n",
       "      <td>0</td>\n",
       "    </tr>\n",
       "    <tr>\n",
       "      <th>9</th>\n",
       "      <td>73</td>\n",
       "      <td>20</td>\n",
       "      <td>0</td>\n",
       "      <td>2860</td>\n",
       "      <td>110</td>\n",
       "      <td>251</td>\n",
       "      <td>9</td>\n",
       "      <td>20</td>\n",
       "      <td>5</td>\n",
       "      <td>17122</td>\n",
       "      <td>150</td>\n",
       "      <td>29</td>\n",
       "      <td>0</td>\n",
       "      <td>0</td>\n",
       "      <td>0</td>\n",
       "      <td>0</td>\n",
       "      <td>0</td>\n",
       "      <td>0</td>\n",
       "      <td>0</td>\n",
       "      <td>0</td>\n",
       "    </tr>\n",
       "    <tr>\n",
       "      <th>52</th>\n",
       "      <td>996</td>\n",
       "      <td>417</td>\n",
       "      <td>128</td>\n",
       "      <td>28680</td>\n",
       "      <td>2926</td>\n",
       "      <td>3705</td>\n",
       "      <td>33</td>\n",
       "      <td>108</td>\n",
       "      <td>195</td>\n",
       "      <td>264204</td>\n",
       "      <td>3222</td>\n",
       "      <td>148</td>\n",
       "      <td>0</td>\n",
       "      <td>0</td>\n",
       "      <td>0</td>\n",
       "      <td>0</td>\n",
       "      <td>0</td>\n",
       "      <td>0</td>\n",
       "      <td>0</td>\n",
       "      <td>0</td>\n",
       "    </tr>\n",
       "    <tr>\n",
       "      <th>78</th>\n",
       "      <td>24</td>\n",
       "      <td>10</td>\n",
       "      <td>0</td>\n",
       "      <td>1630</td>\n",
       "      <td>81</td>\n",
       "      <td>171</td>\n",
       "      <td>13</td>\n",
       "      <td>49</td>\n",
       "      <td>2</td>\n",
       "      <td>6071</td>\n",
       "      <td>111</td>\n",
       "      <td>172</td>\n",
       "      <td>0</td>\n",
       "      <td>0</td>\n",
       "      <td>0</td>\n",
       "      <td>0</td>\n",
       "      <td>0</td>\n",
       "      <td>0</td>\n",
       "      <td>0</td>\n",
       "      <td>0</td>\n",
       "    </tr>\n",
       "    <tr>\n",
       "      <th>80</th>\n",
       "      <td>33</td>\n",
       "      <td>16</td>\n",
       "      <td>0</td>\n",
       "      <td>579</td>\n",
       "      <td>31</td>\n",
       "      <td>35</td>\n",
       "      <td>2</td>\n",
       "      <td>7</td>\n",
       "      <td>3</td>\n",
       "      <td>5787</td>\n",
       "      <td>34</td>\n",
       "      <td>35</td>\n",
       "      <td>0</td>\n",
       "      <td>0</td>\n",
       "      <td>0</td>\n",
       "      <td>0</td>\n",
       "      <td>0</td>\n",
       "      <td>0</td>\n",
       "      <td>0</td>\n",
       "      <td>1</td>\n",
       "    </tr>\n",
       "  </tbody>\n",
       "</table>\n",
       "</div>"
      ],
      "text/plain": [
       "         topic_mode  suggested  review_mode  time_taken  correct  \\\n",
       "user_id                                                            \n",
       "8               147         81            0        1600      192   \n",
       "9                73         20            0        2860      110   \n",
       "52              996        417          128       28680     2926   \n",
       "78               24         10            0        1630       81   \n",
       "80               33         16            0         579       31   \n",
       "\n",
       "         count_attempts  hint_used  count_hints  earned_proficiency  \\\n",
       "user_id                                                               \n",
       "8                   277          8           53                  16   \n",
       "9                   251          9           20                   5   \n",
       "52                 3705         33          108                 195   \n",
       "78                  171         13           49                   2   \n",
       "80                   35          2            7                   3   \n",
       "\n",
       "         points_earned  total_usage  active_from_last  one_before  two_before  \\\n",
       "user_id                                                                         \n",
       "8                28843          230                80           0           0   \n",
       "9                17122          150                29           0           0   \n",
       "52              264204         3222               148           0           0   \n",
       "78                6071          111               172           0           0   \n",
       "80                5787           34                35           0           0   \n",
       "\n",
       "         three_before  four_before  five_before  six_before  seven_before  \\\n",
       "user_id                                                                     \n",
       "8                   0            0            0           0             0   \n",
       "9                   0            0            0           0             0   \n",
       "52                  0            0            0           0             0   \n",
       "78                  0            0            0           0             0   \n",
       "80                  0            0            0           0             0   \n",
       "\n",
       "         target  \n",
       "user_id          \n",
       "8             0  \n",
       "9             0  \n",
       "52            0  \n",
       "78            0  \n",
       "80            1  "
      ]
     },
     "execution_count": 486,
     "metadata": {},
     "output_type": "execute_result"
    }
   ],
   "source": [
    "user_table['target'] = target.values()\n",
    "user_table.head(5)"
   ]
  },
  {
   "cell_type": "code",
   "execution_count": 427,
   "metadata": {},
   "outputs": [
    {
     "data": {
      "text/plain": [
       "Index(['topic_mode', 'suggested', 'review_mode', 'time_taken', 'correct',\n",
       "       'count_attempts', 'hint_used', 'count_hints', 'earned_proficiency',\n",
       "       'points_earned', 'more_than_ten_activities', 'more_than_100_activities',\n",
       "       'more_than_1000_activities', 'active_from_last', 'sum_attempts',\n",
       "       'one_before', 'two_before', 'three_before', 'four_before',\n",
       "       'five_before', 'six_before', 'seven_before', 'total_usage', 'target'],\n",
       "      dtype='object')"
      ]
     },
     "execution_count": 427,
     "metadata": {},
     "output_type": "execute_result"
    }
   ],
   "source": [
    "user_table.columns"
   ]
  },
  {
   "cell_type": "code",
   "execution_count": 469,
   "metadata": {},
   "outputs": [],
   "source": [
    "#Save table and make sure to change version\n",
    "# For testing set, choose slice of data and follow same steps\n",
    "\n",
    "user_table.to_csv('../users_final.csv')"
   ]
  },
  {
   "cell_type": "markdown",
   "metadata": {},
   "source": [
    "### Plotting each feature against the target  "
   ]
  },
  {
   "cell_type": "code",
   "execution_count": 485,
   "metadata": {},
   "outputs": [
    {
     "data": {
      "image/png": "[encoded data removed]",
      "text/plain": [
       "<Figure size 432x288 with 1 Axes>"
      ]
     },
     "metadata": {
      "needs_background": "light"
     },
     "output_type": "display_data"
    },
    {
     "data": {
      "image/png": "[encoded data removed]",
      "text/plain": [
       "<Figure size 432x288 with 1 Axes>"
      ]
     },
     "metadata": {
      "needs_background": "light"
     },
     "output_type": "display_data"
    },
    {
     "data": {
      "image/png": "[encoded data removed]",
      "text/plain": [
       "<Figure size 432x288 with 1 Axes>"
      ]
     },
     "metadata": {
      "needs_background": "light"
     },
     "output_type": "display_data"
    },
    {
     "data": {
      "image/png": "[encoded data removed]",
      "text/plain": [
       "<Figure size 432x288 with 1 Axes>"
      ]
     },
     "metadata": {
      "needs_background": "light"
     },
     "output_type": "display_data"
    },
    {
     "data": {
      "image/png": "[encoded data removed]",
      "text/plain": [
       "<Figure size 432x288 with 1 Axes>"
      ]
     },
     "metadata": {
      "needs_background": "light"
     },
     "output_type": "display_data"
    },
    {
     "data": {
      "image/png": "[encoded data removed]",
      "text/plain": [
       "<Figure size 432x288 with 1 Axes>"
      ]
     },
     "metadata": {
      "needs_background": "light"
     },
     "output_type": "display_data"
    },
    {
     "data": {
      "image/png": "[encoded data removed]",
      "text/plain": [
       "<Figure size 432x288 with 1 Axes>"
      ]
     },
     "metadata": {
      "needs_background": "light"
     },
     "output_type": "display_data"
    },
    {
     "data": {
      "image/png": "[encoded data removed]",
      "text/plain": [
       "<Figure size 432x288 with 1 Axes>"
      ]
     },
     "metadata": {
      "needs_background": "light"
     },
     "output_type": "display_data"
    },
    {
     "data": {
      "image/png": "[encoded data removed]",
      "text/plain": [
       "<Figure size 432x288 with 1 Axes>"
      ]
     },
     "metadata": {
      "needs_background": "light"
     },
     "output_type": "display_data"
    },
    {
     "data": {
      "image/png": "[encoded data removed]",
      "text/plain": [
       "<Figure size 432x288 with 1 Axes>"
      ]
     },
     "metadata": {
      "needs_background": "light"
     },
     "output_type": "display_data"
    },
    {
     "data": {
      "image/png": "[encoded data removed]",
      "text/plain": [
       "<Figure size 432x288 with 1 Axes>"
      ]
     },
     "metadata": {
      "needs_background": "light"
     },
     "output_type": "display_data"
    }
   ],
   "source": [
    "for col in list(user_table.columns.values[:-9]): \n",
    "    fig, ax = plt.subplots()\n",
    "    ax.scatter(user_table['target'], user_table[col], alpha=.05, color='darkblue')\n",
    "    ax.set_title(col)\n"
   ]
  },
  {
   "cell_type": "markdown",
   "metadata": {},
   "source": [
    "### Looking at Usage Per Month"
   ]
  },
  {
   "cell_type": "code",
   "execution_count": 528,
   "metadata": {},
   "outputs": [
    {
     "name": "stdout",
     "output_type": "stream",
     "text": [
      "<class 'pandas.core.frame.DataFrame'>\n",
      "RangeIndex: 25925992 entries, 0 to 25925991\n",
      "Data columns (total 17 columns):\n",
      "user_id                 int64\n",
      "exercise                object\n",
      "problem_type            object\n",
      "problem_number          int64\n",
      "topic_mode              bool\n",
      "suggested               bool\n",
      "review_mode             bool\n",
      "time_done               int64\n",
      "time_taken              int64\n",
      "time_taken_attempts     object\n",
      "correct                 bool\n",
      "count_attempts          int64\n",
      "hint_used               bool\n",
      "count_hints             int64\n",
      "hint_time_taken_list    object\n",
      "earned_proficiency      bool\n",
      "points_earned           int64\n",
      "dtypes: bool(6), int64(7), object(4)\n",
      "memory usage: 2.3+ GB\n"
     ]
    }
   ],
   "source": [
    "months = pd.read_pickle('../junyi_df.pickle')\n",
    "\n",
    "months.info()"
   ]
  },
  {
   "cell_type": "code",
   "execution_count": 529,
   "metadata": {},
   "outputs": [],
   "source": [
    "#Convert Unix datetime to DateTime\n",
    "months = convert_dates(months, 'time_done')\n"
   ]
  },
  {
   "cell_type": "code",
   "execution_count": 530,
   "metadata": {},
   "outputs": [],
   "source": [
    "#Choosing Date Range\n",
    "months= select_date(months, 'time_done', '1/1/2014', '12/31/2014')\n"
   ]
  },
  {
   "cell_type": "code",
   "execution_count": 533,
   "metadata": {},
   "outputs": [],
   "source": [
    "months['month'] = months['time_done'].dt.month"
   ]
  },
  {
   "cell_type": "code",
   "execution_count": 557,
   "metadata": {},
   "outputs": [
    {
     "data": {
      "image/png": "[encoded data removed]",
      "text/plain": [
       "<Figure size 576x432 with 1 Axes>"
      ]
     },
     "metadata": {
      "needs_background": "light"
     },
     "output_type": "display_data"
    }
   ],
   "source": [
    "fig, ax = plt.subplots(figsize=(8,6))\n",
    "\n",
    "ax.hist(months['month'], bins=12, alpha=.8, rwidth=.5, bottom=1, color='darkblue')\n",
    "ax.set_title('Monthly Usage')\n",
    "ax.set_xlabel('Months in 2014')\n",
    "ax.set_ylabel('Users per Month')\n",
    "ax.set_xticks(range(1,13))\n",
    "fig.savefig('images/monthly.png')"
   ]
  },
  {
   "cell_type": "code",
   "execution_count": null,
   "metadata": {},
   "outputs": [],
   "source": []
  }
 ],
 "metadata": {
  "kernelspec": {
   "display_name": "Python 3",
   "language": "python",
   "name": "python3"
  },
  "language_info": {
   "codemirror_mode": {
    "name": "ipython",
    "version": 3
   },
   "file_extension": ".py",
   "mimetype": "text/x-python",
   "name": "python",
   "nbconvert_exporter": "python",
   "pygments_lexer": "ipython3",
   "version": "3.7.3"
  }
 },
 "nbformat": 4,
 "nbformat_minor": 4
}
